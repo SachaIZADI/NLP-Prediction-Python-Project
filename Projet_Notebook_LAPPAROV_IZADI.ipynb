{
 "cells": [
  {
   "cell_type": "markdown",
   "metadata": {},
   "source": [
    "# Project notebook **<span style=\"COLOR:RED\">(complete this cell)</span>**\n",
    "\n",
    "\n",
    "### Student 1 (first half presentation)\n",
    "Name : Valentin Lapparov\n",
    "<br>Group : advanced\n",
    "### Student 2 (second half presentation)\n",
    "Name : Sacha Izadi\n",
    "<br>Group : advanced\n",
    "### Data name : Mercari price suggestion challenge\n",
    "### Data URL : https://www.kaggle.com/c/mercari-price-suggestion-challenge/download/train.tsv.7z\n",
    "### Short summary of the project and datasource :\n",
    "<span style=\"COLOR:RED\">Should be a few lines maximum</span>"
   ]
  },
  {
   "cell_type": "markdown",
   "metadata": {},
   "source": [
    "# General instructions (this cell might be deleted for submission)\n",
    "** <span style=\"color:red\"> Write all the project in this file : code and explanations and upload it before January 7th at 23:55 </span> ** : \n",
    "\n",
    "<span style=\"color:red\">Remember : Code cells must be smaller than 30 lines </span>\n",
    "\n",
    "Every thing must be in the notebook :\n",
    "\n",
    "* Explanation of what you want to do with data should be present in the Notebook\n",
    "* Download data in the notebook (check the URL availability) and give the source of data (both URL and textual description)\n",
    "* Give as much as possible characteristics of data (size, type, fields, ...)\n",
    "* Provide visualisation of the data that you think useful\n",
    "* Check for the consistence of the dataset (error, missing data,...) and correct and/or delete errors\n",
    "* **Ask yourself a question that request you to perform an estimation** (for example, you can choose a data depending on time, and try to predict the latest 10% of data knowing the rest of data). **This will typically be solved through the proposal of a model and fitting the parameters of the model to (part of) the data.**\n",
    "\n",
    "If you end up writing long chunks of code, make sure you split it in logical «smaller code cells» and explain the logic. The Juptyer Notebook will be **both the memoire** you will submit for evaluation **and the visual support** for your oral presentation of your project, keep this in mind while writing it."
   ]
  },
  {
   "cell_type": "markdown",
   "metadata": {},
   "source": [
    "### Aims : \n",
    "** <span style=\"color:red\"> Here explain what you what to do with data</span> ** \n",
    "* \n",
    "* \n",
    "* "
   ]
  },
  {
   "cell_type": "markdown",
   "metadata": {},
   "source": [
    "### Download : \n",
    "** <span style=\"color:red\">Write explanations here</span> ** \n",
    "* \n",
    "* \n",
    "* "
   ]
  },
  {
   "cell_type": "code",
   "execution_count": 1,
   "metadata": {
    "collapsed": true
   },
   "outputs": [],
   "source": [
    "######## Import what is needed ###########\n",
    "import urllib.request as ur\n",
    "import pandas as pd\n",
    "import pickle"
   ]
  },
  {
   "cell_type": "code",
   "execution_count": 24,
   "metadata": {},
   "outputs": [
    {
     "name": "stdout",
     "output_type": "stream",
     "text": [
      "Downloading data...\n",
      "Download complete.\n"
     ]
    }
   ],
   "source": [
    "######## donwload data ###########\n",
    "import urllib.request as ur\n",
    "\n",
    "print('Downloading data...')\n",
    "data_file = 'train_tsv.7z'\n",
    "ur.urlretrieve (\"https://www.kaggle.com/c/mercari-price-suggestion-challenge/download/train.tsv.7z\", data_file)\n",
    "print('Download complete.')"
   ]
  },
  {
   "cell_type": "markdown",
   "metadata": {},
   "source": [
    "** <span style=\"color:red\">If there is any obvious data curation to be performed upon initial data loading, do it here</span> ** \n",
    "\n"
   ]
  },
  {
   "cell_type": "code",
   "execution_count": 30,
   "metadata": {},
   "outputs": [
    {
     "name": "stdout",
     "output_type": "stream",
     "text": [
      "Unzipping\n",
      "Done!\n"
     ]
    }
   ],
   "source": [
    "####### unzip file ###########\n",
    "\n",
    "# >>> Uncomment the following line to install the packages needed for unzipping\n",
    "#! pip install pyunpack\n",
    "#! pip install patool\n",
    "from pyunpack import Archive\n",
    "data_file = 'train_tsv.7z'\n",
    "print('Unzipping')\n",
    "#Archive(data_file).extractall('Data',auto_create_dir=True)\n",
    "print('Done!')\n",
    "\n",
    "\n",
    "\n",
    "### >>> Je n'arrive pas à unzipp le dossier depuis Python, pour l'instant je le fais à la main ...\n"
   ]
  },
  {
   "cell_type": "code",
   "execution_count": 2,
   "metadata": {},
   "outputs": [
    {
     "name": "stdout",
     "output_type": "stream",
     "text": [
      "Loading the dataset in a pandas DataFrame...\n",
      "Loading completed.\n"
     ]
    }
   ],
   "source": [
    "print(\"Loading the dataset in a pandas DataFrame...\")\n",
    "data_mercari = pd.read_csv('Data/Mercari_data.tsv', sep='\\t')\n",
    "print(\"Loading completed.\")"
   ]
  },
  {
   "cell_type": "code",
   "execution_count": 4,
   "metadata": {},
   "outputs": [
    {
     "name": "stdout",
     "output_type": "stream",
     "text": [
      "                                  name  item_condition_id  \\\n",
      "0  MLB Cincinnati Reds T Shirt Size XL                  3   \n",
      "1     Razer BlackWidow Chroma Keyboard                  3   \n",
      "2                       AVA-VIV Blouse                  1   \n",
      "3                Leather Horse Statues                  1   \n",
      "4                 24K GOLD plated rose                  1   \n",
      "\n",
      "                                       category_name brand_name  price  \\\n",
      "0                                  Men/Tops/T-shirts        NaN   10.0   \n",
      "1  Electronics/Computers & Tablets/Components & P...      Razer   52.0   \n",
      "2                        Women/Tops & Blouses/Blouse     Target   10.0   \n",
      "3                 Home/Home Décor/Home Décor Accents        NaN   35.0   \n",
      "4                            Women/Jewelry/Necklaces        NaN   44.0   \n",
      "\n",
      "   shipping                                   item_description  \n",
      "0         1                                 No description yet  \n",
      "1         0  This keyboard is in great condition and works ...  \n",
      "2         1  Adorable top with a hint of lace and a key hol...  \n",
      "3         1  New with tags. Leather horses. Retail for [rm]...  \n",
      "4         0          Complete with certificate of authenticity  \n"
     ]
    }
   ],
   "source": [
    "pd.DataFrame.head(data_mercari)\n",
    "data_mercari.drop('train_id',axis=1,inplace=True) ## Remove train_id because it's useless"
   ]
  },
  {
   "cell_type": "code",
   "execution_count": 7,
   "metadata": {},
   "outputs": [
    {
     "name": "stdout",
     "output_type": "stream",
     "text": [
      "Percentage of NaN in the dataset (%)\n",
      "name                 0.000000\n",
      "item_condition_id    0.000000\n",
      "category_name        0.060967\n",
      "brand_name           6.096527\n",
      "price                0.000000\n",
      "shipping             0.000000\n",
      "item_description     0.000039\n",
      "dtype: float64\n"
     ]
    }
   ],
   "source": [
    "print (\"Percentage of NaN in the dataset (%)\") ## Check the proportion of NaN in the dataset\n",
    "print(data_mercari.isnull().sum()/data_mercari.size*100)"
   ]
  },
  {
   "cell_type": "code",
   "execution_count": 8,
   "metadata": {
    "collapsed": true
   },
   "outputs": [],
   "source": [
    "# As there is only few NaN, removing them won't change the analysis too much\n",
    "data_mercari=data_mercari[pd.notnull(data_mercari['item_description'])]\n",
    "data_mercari=data_mercari[pd.notnull(data_mercari['category_name'])]\n",
    "data_mercari=data_mercari[pd.notnull(data_mercari['brand_name'])]"
   ]
  },
  {
   "cell_type": "code",
   "execution_count": 9,
   "metadata": {
    "collapsed": true
   },
   "outputs": [],
   "source": [
    "# Let's split the categories like \"Electronics/Computers & Tablets/Components & Parts\" into main & sub categories\n",
    "data_mercari['main_cat'], data_mercari['subcat_1'], data_mercari['subcat_2'] = \\\n",
    "data_mercari['category_name'].str.split('/', 2).str"
   ]
  },
  {
   "cell_type": "code",
   "execution_count": 10,
   "metadata": {
    "collapsed": true
   },
   "outputs": [],
   "source": [
    "# Reordering the dataset\n",
    "data_mercari.drop('category_name',axis=1,inplace=True)\n",
    "cols = data_mercari.columns.values.tolist()\n",
    "cols = cols[0:1] + cols[-3:] + cols[2:6]\n",
    "data_mercari = data_mercari[cols]"
   ]
  },
  {
   "cell_type": "code",
   "execution_count": 11,
   "metadata": {},
   "outputs": [
    {
     "data": {
      "text/html": [
       "<div>\n",
       "<style>\n",
       "    .dataframe thead tr:only-child th {\n",
       "        text-align: right;\n",
       "    }\n",
       "\n",
       "    .dataframe thead th {\n",
       "        text-align: left;\n",
       "    }\n",
       "\n",
       "    .dataframe tbody tr th {\n",
       "        vertical-align: top;\n",
       "    }\n",
       "</style>\n",
       "<table border=\"1\" class=\"dataframe\">\n",
       "  <thead>\n",
       "    <tr style=\"text-align: right;\">\n",
       "      <th></th>\n",
       "      <th>name</th>\n",
       "      <th>main_cat</th>\n",
       "      <th>subcat_1</th>\n",
       "      <th>subcat_2</th>\n",
       "      <th>brand_name</th>\n",
       "      <th>price</th>\n",
       "      <th>shipping</th>\n",
       "      <th>item_description</th>\n",
       "    </tr>\n",
       "  </thead>\n",
       "  <tbody>\n",
       "    <tr>\n",
       "      <th>1</th>\n",
       "      <td>Razer BlackWidow Chroma Keyboard</td>\n",
       "      <td>Electronics</td>\n",
       "      <td>Computers &amp; Tablets</td>\n",
       "      <td>Components &amp; Parts</td>\n",
       "      <td>Razer</td>\n",
       "      <td>52.0</td>\n",
       "      <td>0</td>\n",
       "      <td>This keyboard is in great condition and works ...</td>\n",
       "    </tr>\n",
       "    <tr>\n",
       "      <th>2</th>\n",
       "      <td>AVA-VIV Blouse</td>\n",
       "      <td>Women</td>\n",
       "      <td>Tops &amp; Blouses</td>\n",
       "      <td>Blouse</td>\n",
       "      <td>Target</td>\n",
       "      <td>10.0</td>\n",
       "      <td>1</td>\n",
       "      <td>Adorable top with a hint of lace and a key hol...</td>\n",
       "    </tr>\n",
       "    <tr>\n",
       "      <th>6</th>\n",
       "      <td>Acacia pacific tides santorini top</td>\n",
       "      <td>Women</td>\n",
       "      <td>Swimwear</td>\n",
       "      <td>Two-Piece</td>\n",
       "      <td>Acacia Swimwear</td>\n",
       "      <td>64.0</td>\n",
       "      <td>0</td>\n",
       "      <td>Size small but straps slightly shortened to fi...</td>\n",
       "    </tr>\n",
       "    <tr>\n",
       "      <th>7</th>\n",
       "      <td>Girls cheer and tumbling bundle of 7</td>\n",
       "      <td>Sports &amp; Outdoors</td>\n",
       "      <td>Apparel</td>\n",
       "      <td>Girls</td>\n",
       "      <td>Soffe</td>\n",
       "      <td>6.0</td>\n",
       "      <td>1</td>\n",
       "      <td>You get three pairs of Sophie cheer shorts siz...</td>\n",
       "    </tr>\n",
       "    <tr>\n",
       "      <th>8</th>\n",
       "      <td>Girls Nike Pro shorts</td>\n",
       "      <td>Sports &amp; Outdoors</td>\n",
       "      <td>Apparel</td>\n",
       "      <td>Girls</td>\n",
       "      <td>Nike</td>\n",
       "      <td>19.0</td>\n",
       "      <td>0</td>\n",
       "      <td>Girls Size small Plus green. Three shorts total.</td>\n",
       "    </tr>\n",
       "  </tbody>\n",
       "</table>\n",
       "</div>"
      ],
      "text/plain": [
       "                                   name           main_cat  \\\n",
       "1      Razer BlackWidow Chroma Keyboard        Electronics   \n",
       "2                        AVA-VIV Blouse              Women   \n",
       "6    Acacia pacific tides santorini top              Women   \n",
       "7  Girls cheer and tumbling bundle of 7  Sports & Outdoors   \n",
       "8                 Girls Nike Pro shorts  Sports & Outdoors   \n",
       "\n",
       "              subcat_1            subcat_2       brand_name  price  shipping  \\\n",
       "1  Computers & Tablets  Components & Parts            Razer   52.0         0   \n",
       "2       Tops & Blouses              Blouse           Target   10.0         1   \n",
       "6             Swimwear           Two-Piece  Acacia Swimwear   64.0         0   \n",
       "7              Apparel               Girls            Soffe    6.0         1   \n",
       "8              Apparel               Girls             Nike   19.0         0   \n",
       "\n",
       "                                    item_description  \n",
       "1  This keyboard is in great condition and works ...  \n",
       "2  Adorable top with a hint of lace and a key hol...  \n",
       "6  Size small but straps slightly shortened to fi...  \n",
       "7  You get three pairs of Sophie cheer shorts siz...  \n",
       "8   Girls Size small Plus green. Three shorts total.  "
      ]
     },
     "execution_count": 11,
     "metadata": {},
     "output_type": "execute_result"
    }
   ],
   "source": [
    "pd.DataFrame.head(data_mercari)"
   ]
  },
  {
   "cell_type": "code",
   "execution_count": 12,
   "metadata": {
    "collapsed": true
   },
   "outputs": [],
   "source": [
    "# Pickeling the datacleaning for using it later on\n",
    "data_mercari.to_pickle(\"data_mercari_cleaned.pickle\")"
   ]
  },
  {
   "cell_type": "code",
   "execution_count": 13,
   "metadata": {
    "collapsed": true
   },
   "outputs": [],
   "source": [
    "# Opening the Pickle data\n",
    "with open('data_mercari_cleaned.pickle', 'rb') as f:\n",
    "    data_mercari = pickle.load(f)"
   ]
  },
  {
   "cell_type": "code",
   "execution_count": null,
   "metadata": {},
   "outputs": [],
   "source": []
  },
  {
   "cell_type": "markdown",
   "metadata": {},
   "source": [
    "### Data charaterisctics :  Here, give as much as possible characteristics of data\n",
    "** <span style=\"color:red\"> Write explanations here</span> ** \n",
    "* \n",
    "* \n",
    "* "
   ]
  },
  {
   "cell_type": "code",
   "execution_count": null,
   "metadata": {
    "collapsed": true
   },
   "outputs": [],
   "source": [
    "### write code here (use as many cells as needed)\n",
    "\n"
   ]
  },
  {
   "cell_type": "markdown",
   "metadata": {},
   "source": [
    "### Data visualisation and representation\n",
    "** <span style=\"color:red\"> Write explanations here</span> ** \n",
    "* \n",
    "* \n",
    "* "
   ]
  },
  {
   "cell_type": "code",
   "execution_count": null,
   "metadata": {
    "collapsed": true
   },
   "outputs": [],
   "source": [
    "### write code here (use as many cells as needed)\n",
    "\n"
   ]
  },
  {
   "cell_type": "markdown",
   "metadata": {},
   "source": [
    "### Data consistency checking\n",
    "** <span style=\"color:red\"> Write explanations here</span> ** \n",
    "* \n",
    "* \n",
    "* "
   ]
  },
  {
   "cell_type": "code",
   "execution_count": null,
   "metadata": {
    "collapsed": true
   },
   "outputs": [],
   "source": [
    "### write code here (use as many cells as needed)\n",
    "\n"
   ]
  },
  {
   "cell_type": "markdown",
   "metadata": {},
   "source": [
    "### Estimation question\n",
    "** <span style=\"color:red\"> Write explanations here</span> ** \n",
    "* \n",
    "* \n",
    "* "
   ]
  },
  {
   "cell_type": "code",
   "execution_count": null,
   "metadata": {
    "collapsed": true
   },
   "outputs": [],
   "source": [
    "### write code here (use as many cells as needed)\n",
    "\n"
   ]
  },
  {
   "cell_type": "markdown",
   "metadata": {},
   "source": [
    "### As many other optional questions as you want\n",
    "** <span style=\"color:red\"> Write explanations here</span> ** \n",
    "* \n",
    "* \n",
    "* "
   ]
  }
 ],
 "metadata": {
  "kernelspec": {
   "display_name": "Python 3",
   "language": "python",
   "name": "python3"
  },
  "language_info": {
   "codemirror_mode": {
    "name": "ipython",
    "version": 3
   },
   "file_extension": ".py",
   "mimetype": "text/x-python",
   "name": "python",
   "nbconvert_exporter": "python",
   "pygments_lexer": "ipython3",
   "version": "3.6.2"
  }
 },
 "nbformat": 4,
 "nbformat_minor": 2
}
